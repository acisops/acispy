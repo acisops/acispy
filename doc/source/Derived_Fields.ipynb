{
 "cells": [
  {
   "cell_type": "markdown",
   "metadata": {},
   "source": [
    "## What are Derived Fields?"
   ]
  },
  {
   "cell_type": "markdown",
   "metadata": {},
   "source": [
    "In the Loading Data section we already discussed the concept of fields and field specifications. For example, if we have the following `DataContainer`:"
   ]
  },
  {
   "cell_type": "code",
   "execution_count": null,
   "metadata": {
    "collapsed": false
   },
   "outputs": [],
   "source": [
    "# DON'T USE THIS LINE IF YOU ARE RUNNING IN THE IPYTHON COMMAND-LINE CONSOLE\n",
    "%matplotlib inline"
   ]
  },
  {
   "cell_type": "code",
   "execution_count": null,
   "metadata": {
    "collapsed": false
   },
   "outputs": [],
   "source": [
    "import acispy\n",
    "msids = [\"1dp28avo\",\"1dpicacu\",\"1deicacu\",\"1pin1at\",\"1pdeaat\"]\n",
    "states = [\"pitch\", \"ccd_count\"]\n",
    "dc = acispy.DataContainer.fetch_from_database(\"2015:001\", \"2015:030\", \n",
    "                                              msid_keys=msids,\n",
    "                                              state_keys=states)"
   ]
  },
  {
   "cell_type": "markdown",
   "metadata": {},
   "source": [
    "Then we have seven fields loaded into the `DataContainer`, five MSIDs and two commanded states. We can look at those using the `field_list` attribute of the `DataContainer`:"
   ]
  },
  {
   "cell_type": "code",
   "execution_count": null,
   "metadata": {
    "collapsed": false
   },
   "outputs": [],
   "source": [
    "dc.field_list"
   ]
  },
  {
   "cell_type": "markdown",
   "metadata": {},
   "source": [
    "So, for example, `('msids', '1dp28avo')` is a \"field specification\" for the field itself which may be accessed in a dict-like manner:"
   ]
  },
  {
   "cell_type": "code",
   "execution_count": null,
   "metadata": {
    "collapsed": false
   },
   "outputs": [],
   "source": [
    "print dc['msids', '1dp28avo']"
   ]
  },
  {
   "cell_type": "markdown",
   "metadata": {},
   "source": [
    "But what if you wanted to create new fields from combinations of these fields, say, by adding two fields, or multiplying, or some other transformation. That is the purpose of a \"derived field\", which has the same status as the other fields and can be accessed and plotted in the same way. ACISpy comes with some derived fields pre-defined, which can be shown using the `derived_field_list` of the `DataContainer`:"
   ]
  },
  {
   "cell_type": "code",
   "execution_count": null,
   "metadata": {
    "collapsed": false
   },
   "outputs": [],
   "source": [
    "dc.derived_field_list"
   ]
  },
  {
   "cell_type": "markdown",
   "metadata": {},
   "source": [
    "In this section, we'll show how to create your own derived fields in various ways. "
   ]
  },
  {
   "cell_type": "markdown",
   "metadata": {},
   "source": [
    "## Making Your Own Derived Field"
   ]
  },
  {
   "cell_type": "markdown",
   "metadata": {},
   "source": [
    "You can make your own derived field from a combination of fields that already exist, whether from raw data, another derived field, or combinations of both. In this example, we'll show how to make a derived field. For simplicity, we'll create a derived field that already exists, `(\"msids\", \"dpa_a_power\")`.\n",
    "\n",
    "First, we need to define the function that tells us what the field is:"
   ]
  },
  {
   "cell_type": "code",
   "execution_count": null,
   "metadata": {
    "collapsed": true
   },
   "outputs": [],
   "source": [
    "def _dpaa_power(dc):\n",
    "    return (dc[\"msids\", \"1dp28avo\"]*dc[\"msids\", \"1dpicacu\"]).to(\"W\")"
   ]
  },
  {
   "cell_type": "markdown",
   "metadata": {},
   "source": [
    "What we see here is that the DPA-A power is just the multiplication of `(\"msids\", \"1dp28avo\")` and `(\"msids\", \"1dpicacu\")`. This field definition simply multiplies the to and makes sure that the product is in units of Watts by calling the `.to()` method. Field defintion functions must take a `DataContainer` as their only argument. We next have to define several other things about the field:"
   ]
  },
  {
   "cell_type": "code",
   "execution_count": null,
   "metadata": {
    "collapsed": true
   },
   "outputs": [],
   "source": [
    "ftype = \"msids\" # The type of field, since they are both MSIDs we'll keep it\n",
    "fname = \"my_dpa_power\" # The name of the field\n",
    "function = _dpaa_power # The function definition for the field\n",
    "times = (\"msids\", \"1dp28avo\") # The times for the field, in this case we can just supply a field specification\n",
    "                              # to copy them over from \"1dp28avo\"\n",
    "units = \"W\" # The units of the field\n",
    "display_name = \"DPA-A Power\" # Optional, it controls how the field is displayed in plots"
   ]
  },
  {
   "cell_type": "markdown",
   "metadata": {},
   "source": [
    "Now we can call the `add_derived_field()` method to set this field up:"
   ]
  },
  {
   "cell_type": "code",
   "execution_count": null,
   "metadata": {
    "collapsed": false
   },
   "outputs": [],
   "source": [
    "dc.add_derived_field(ftype, fname, function, units, times, display_name=display_name) "
   ]
  },
  {
   "cell_type": "markdown",
   "metadata": {},
   "source": [
    "We can use this field now just like any other, e.g. by examining the data:"
   ]
  },
  {
   "cell_type": "code",
   "execution_count": null,
   "metadata": {
    "collapsed": false
   },
   "outputs": [],
   "source": [
    "print dc[\"msids\", \"my_dpa_power\"]"
   ]
  },
  {
   "cell_type": "markdown",
   "metadata": {},
   "source": [
    "and plotting it up:"
   ]
  },
  {
   "cell_type": "code",
   "execution_count": null,
   "metadata": {
    "collapsed": false
   },
   "outputs": [],
   "source": [
    "dp = acispy.DatePlot(dc, [(\"msids\", \"my_dpa_power\")])"
   ]
  },
  {
   "cell_type": "markdown",
   "metadata": {},
   "source": [
    "In the call to `add_derived_field()`, it is also possible to input an array of times in seconds if they are explicity known. "
   ]
  },
  {
   "cell_type": "markdown",
   "metadata": {},
   "source": [
    "## Making an Averaged Field"
   ]
  },
  {
   "cell_type": "markdown",
   "metadata": {},
   "source": [
    "Some fields are particularly noisy, such as currents. For these fields, it may be helpful to examine the running or moving average of a field over time rather than its raw values. The method `add_averaged_field()` of the `DataContainer` may be used for this. To make an average field, call `add_averaged_field()` with the field specification that you want to average, and the number of samples `n` that you would like to make the running average over:"
   ]
  },
  {
   "cell_type": "code",
   "execution_count": null,
   "metadata": {
    "collapsed": false
   },
   "outputs": [],
   "source": [
    "dc.add_averaged_field(\"msids\", \"1deicacu\", n=10) # 10 is the default"
   ]
  },
  {
   "cell_type": "markdown",
   "metadata": {},
   "source": [
    "The averaged field will have the same field specification as the original field except its name will be prefixed by `\"avg_\"`. We can plot both of these fields together:"
   ]
  },
  {
   "cell_type": "code",
   "execution_count": null,
   "metadata": {
    "collapsed": false
   },
   "outputs": [],
   "source": [
    "dp = acispy.DatePlot(dc, [(\"msids\", \"1deicacu\"), (\"msids\", \"avg_1deicacu\")])\n",
    "dp.set_xlim(\"2015:018\", \"2015:019\")"
   ]
  },
  {
   "cell_type": "markdown",
   "metadata": {},
   "source": [
    "## Making an Interpolated Field"
   ]
  },
  {
   "cell_type": "markdown",
   "metadata": {},
   "source": [
    "Since not all fields have the same time sampling, to perform arithmetic operations between them it may be necessary to interpolate one field to the timing information of another. This can be accomplished by the method `add_interpolated_field()`. We'll use it here to interpolate `1pin1at` to the times of `1pdeaat` and create a new field which subtracts the two:"
   ]
  },
  {
   "cell_type": "code",
   "execution_count": null,
   "metadata": {
    "collapsed": false
   },
   "outputs": [],
   "source": [
    "times = dc.times('msids', '1pdeaat')\n",
    "dc.add_interpolated_field('msids', '1pin1at', times)"
   ]
  },
  {
   "cell_type": "markdown",
   "metadata": {},
   "source": [
    "We now have a new derived field `(\"msids\", \"interp_1pin1at\")` that has the same timing as the `(\"msids\", \"1pdeaat\")` field. We can now use this interpolated field to create a new derived field which is the difference of the two:"
   ]
  },
  {
   "cell_type": "code",
   "execution_count": null,
   "metadata": {
    "collapsed": false
   },
   "outputs": [],
   "source": [
    "def _diff_psmc(dc):\n",
    "    return dc['msids','1pdeaat']-dc['msids','interp_1pin1at']\n",
    "dc.add_derived_field('msids', 'diff_psmc', _diff_psmc, \"deg_C\", dc.times('msids','1pdeaat'),\n",
    "                     display_name=r\"$\\mathrm{PSMC\\ \\Delta{T}}$\")"
   ]
  },
  {
   "cell_type": "markdown",
   "metadata": {},
   "source": [
    "Plotting it up:"
   ]
  },
  {
   "cell_type": "code",
   "execution_count": null,
   "metadata": {
    "collapsed": false
   },
   "outputs": [],
   "source": [
    "dp = acispy.DatePlot(dc, [(\"msids\",\"diff_psmc\")])"
   ]
  }
 ],
 "metadata": {
  "kernelspec": {
   "display_name": "Python 2",
   "language": "python",
   "name": "python2"
  },
  "language_info": {
   "codemirror_mode": {
    "name": "ipython",
    "version": 2
   },
   "file_extension": ".py",
   "mimetype": "text/x-python",
   "name": "python",
   "nbconvert_exporter": "python",
   "pygments_lexer": "ipython2",
   "version": "2.7.11"
  }
 },
 "nbformat": 4,
 "nbformat_minor": 0
}
