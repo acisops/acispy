{
 "cells": [
  {
   "cell_type": "code",
   "execution_count": null,
   "metadata": {},
   "outputs": [],
   "source": [
    "%matplotlib inline\n",
    "import acispy"
   ]
  },
  {
   "cell_type": "markdown",
   "metadata": {},
   "source": [
    "The `LoadReview` object in ACISpy can be used to obtain basic information about a particular load from the ACIS perspective. It parses the `ACIS-LoadReview.txt` file associated with the load and also loads the data for the thermal models. \n",
    "\n",
    "To obtain a particular load, simply generate a `LoadReview` object by passing in the name of the load:"
   ]
  },
  {
   "cell_type": "code",
   "execution_count": null,
   "metadata": {},
   "outputs": [],
   "source": [
    "lr = acispy.LoadReview(\"AUG1417\")"
   ]
  },
  {
   "cell_type": "markdown",
   "metadata": {},
   "source": [
    "By omitting the letter at the end, one is implying they want the latest iteration of the load, in this case, \"B\". One can check this:"
   ]
  },
  {
   "cell_type": "code",
   "execution_count": null,
   "metadata": {},
   "outputs": [],
   "source": [
    "print (lr)"
   ]
  },
  {
   "cell_type": "markdown",
   "metadata": {},
   "source": [
    "It is also allowed to pass the full name of a load iteration into the `LoadReview` constructor, say `\"AUG1417A\"`. \n",
    "\n",
    "The `LoadReview` object contains a number of pieces of useful information. It has attributes for the first and last times in the load:"
   ]
  },
  {
   "cell_type": "code",
   "execution_count": null,
   "metadata": {},
   "outputs": [],
   "source": [
    "print (\"First time =\", lr.first_time)\n",
    "print (\"Last time =\", lr.last_time)"
   ]
  },
  {
   "cell_type": "markdown",
   "metadata": {},
   "source": [
    "And an attribute for the initial status of the load:"
   ]
  },
  {
   "cell_type": "code",
   "execution_count": null,
   "metadata": {},
   "outputs": [],
   "source": [
    "lr.start_status"
   ]
  },
  {
   "cell_type": "markdown",
   "metadata": {},
   "source": [
    "The `LoadReview` object also has a number of attributes corresponding to events in the load. These attributes can be listed using the `list_attributes()` method:"
   ]
  },
  {
   "cell_type": "code",
   "execution_count": null,
   "metadata": {},
   "outputs": [],
   "source": [
    "lr.list_attributes()"
   ]
  },
  {
   "cell_type": "markdown",
   "metadata": {},
   "source": [
    "Then you can access one of these attributes to examine the times of these events and/or the states associated with those times, if a state is applicable. For example, one can look at the times of OBSID changes and the new OBSID:"
   ]
  },
  {
   "cell_type": "code",
   "execution_count": null,
   "metadata": {},
   "outputs": [],
   "source": [
    "print (\"OBSID Times:\")\n",
    "print ()\n",
    "print (lr.obsid_change.times)\n",
    "print ()\n",
    "print (\"OBSID States:\")\n",
    "print ()\n",
    "print (lr.obsid_change.state)"
   ]
  },
  {
   "cell_type": "markdown",
   "metadata": {},
   "source": [
    "Or one can print the times when a comm starts:"
   ]
  },
  {
   "cell_type": "code",
   "execution_count": null,
   "metadata": {},
   "outputs": [],
   "source": [
    "print (\"Comm Starts:\")\n",
    "print ()\n",
    "print (lr.comm_begins.times)"
   ]
  },
  {
   "cell_type": "markdown",
   "metadata": {},
   "source": [
    "Or the SIM translations and what SIM position, and instrument is translated to:"
   ]
  },
  {
   "cell_type": "code",
   "execution_count": null,
   "metadata": {},
   "outputs": [],
   "source": [
    "print (\"SIM Translation Times:\")\n",
    "print ()\n",
    "print (lr.sim_trans.times)\n",
    "print ()\n",
    "print (\"SIM Translation States:\")\n",
    "print ()\n",
    "print (lr.sim_trans.state)"
   ]
  }
 ],
 "metadata": {
  "kernelspec": {
   "display_name": "Python [conda env:ska3]",
   "language": "python",
   "name": "conda-env-ska3-py"
  },
  "language_info": {
   "codemirror_mode": {
    "name": "ipython",
    "version": 3
   },
   "file_extension": ".py",
   "mimetype": "text/x-python",
   "name": "python",
   "nbconvert_exporter": "python",
   "pygments_lexer": "ipython3",
   "version": "3.6.2"
  }
 },
 "nbformat": 4,
 "nbformat_minor": 2
}
