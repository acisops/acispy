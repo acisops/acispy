{
 "cells": [
  {
   "cell_type": "code",
   "execution_count": null,
   "metadata": {
    "collapsed": true
   },
   "outputs": [],
   "source": [
    "%matplotlib inline\n",
    "import acispy"
   ]
  },
  {
   "cell_type": "markdown",
   "metadata": {},
   "source": [
    "The `ACISLoadReview` object in ACISpy can be used to obtain basic information about a particular load from the ACIS perspective. It parses the `ACIS-LoadReview.txt` file associated with the load, and also loads the data for the thermal models, commanded states, and telemetry data for those temperatures.\n",
    "\n",
    "To access a particular load, simply generate a `ACISLoadReview` object by passing in the name of the load:"
   ]
  },
  {
   "cell_type": "code",
   "execution_count": null,
   "metadata": {
    "collapsed": true
   },
   "outputs": [],
   "source": [
    "lr = acispy.ACISLoadReview(\"AUG0717\")"
   ]
  },
  {
   "cell_type": "markdown",
   "metadata": {},
   "source": [
    "By omitting the letter at the end, one is implying they want the latest iteration of the load, in this case, \"B\". One can check this:"
   ]
  },
  {
   "cell_type": "code",
   "execution_count": null,
   "metadata": {
    "collapsed": true
   },
   "outputs": [],
   "source": [
    "print(lr)"
   ]
  },
  {
   "cell_type": "markdown",
   "metadata": {},
   "source": [
    "You can also pass in the full name of a load iteration into the `ACISLoadReview` constructor, say `\"AUG1417A\"`. "
   ]
  },
  {
   "cell_type": "markdown",
   "metadata": {},
   "source": [
    "## Accessing `LoadReview` Information"
   ]
  },
  {
   "cell_type": "markdown",
   "metadata": {},
   "source": [
    "The `ACISLoadReview` object contains a number of pieces of useful information. It has attributes for the first and last times in the load:"
   ]
  },
  {
   "cell_type": "code",
   "execution_count": null,
   "metadata": {
    "collapsed": true
   },
   "outputs": [],
   "source": [
    "print(\"First time =\", lr.first_time)\n",
    "print(\"Last time =\", lr.last_time)"
   ]
  },
  {
   "cell_type": "markdown",
   "metadata": {},
   "source": [
    "And an attribute for the initial status of the load:"
   ]
  },
  {
   "cell_type": "code",
   "execution_count": null,
   "metadata": {
    "collapsed": true
   },
   "outputs": [],
   "source": [
    "lr.start_status"
   ]
  },
  {
   "cell_type": "markdown",
   "metadata": {},
   "source": [
    "The `ACISLoadReview` object also has a number of attributes corresponding to events in the load. These attributes can be listed using the `list_attributes()` method:"
   ]
  },
  {
   "cell_type": "code",
   "execution_count": null,
   "metadata": {
    "collapsed": true
   },
   "outputs": [],
   "source": [
    "lr.list_attributes()"
   ]
  },
  {
   "cell_type": "markdown",
   "metadata": {},
   "source": [
    "Then you can access one of these attributes to examine the times of these events and/or the states associated with those times, if a state is applicable. For example, one can look at the times of OBSID changes and the new OBSID:"
   ]
  },
  {
   "cell_type": "code",
   "execution_count": null,
   "metadata": {
    "collapsed": true
   },
   "outputs": [],
   "source": [
    "print(\"OBSID Times:\")\n",
    "print()\n",
    "print(lr.obsid_change.times)\n",
    "print()\n",
    "print(\"OBSID States:\")\n",
    "print()\n",
    "print (lr.obsid_change.state)"
   ]
  },
  {
   "cell_type": "markdown",
   "metadata": {},
   "source": [
    "Or one can print the times when a comm starts:"
   ]
  },
  {
   "cell_type": "code",
   "execution_count": null,
   "metadata": {
    "collapsed": true
   },
   "outputs": [],
   "source": [
    "print(\"Comm Starts:\")\n",
    "print()\n",
    "print(lr.comm_begins.times)"
   ]
  },
  {
   "cell_type": "markdown",
   "metadata": {},
   "source": [
    "Or the SIM translations and what SIM position and instrument is translated to:"
   ]
  },
  {
   "cell_type": "code",
   "execution_count": null,
   "metadata": {
    "collapsed": true
   },
   "outputs": [],
   "source": [
    "print(\"SIM Translation Times:\")\n",
    "print()\n",
    "print(lr.sim_trans.times)\n",
    "print()\n",
    "print(\"SIM Translation States:\")\n",
    "print()\n",
    "print(lr.sim_trans.state)"
   ]
  },
  {
   "cell_type": "markdown",
   "metadata": {},
   "source": [
    "The `ACISLoadReview` object has a `Dataset` object attached to it, which includes all of the thermal models and commanded states for the load in question. If the load is sufficiently far enough in the past, it also includes the temperature data corresponding to those models extracted from the engineering archive. The `Dataset` object in question is stored in the `ds` attribute of the `ACISLoadReview` object:"
   ]
  },
  {
   "cell_type": "code",
   "execution_count": null,
   "metadata": {
    "collapsed": true
   },
   "outputs": [],
   "source": [
    "print(lr.ds[\"model\", \"1deamzt\"])\n",
    "print()\n",
    "print(lr.ds[\"msids\", \"1deamzt\"])\n",
    "print()\n",
    "print(lr.ds[\"states\", \"ccd_count\"])"
   ]
  },
  {
   "cell_type": "markdown",
   "metadata": {},
   "source": [
    "## `ACISLoadReview` Plotting"
   ]
  },
  {
   "cell_type": "markdown",
   "metadata": {},
   "source": [
    "Perhaps most useful is the ability to plot thermal models and their corresponding MSID data from a load's time period, as well as the commanded states. One can do this using the `plot()` method of the `ACISLoadReview` object. This method simply creates a `DatePlot` object, which one could do by hand, but has additional annotations that can also be plotted which are drawn from the load review information. \n",
    "\n",
    "To make a basic plot of the 1DPAMZT model and data vs. time along with pitch for the whole load period:"
   ]
  },
  {
   "cell_type": "code",
   "execution_count": null,
   "metadata": {
    "collapsed": true
   },
   "outputs": [],
   "source": [
    "dp = lr.plot([(\"model\", \"1dpamzt\"), (\"msids\", \"1dpamzt\")], field2=\"pitch\")"
   ]
  },
  {
   "cell_type": "markdown",
   "metadata": {},
   "source": [
    "To make a plot where the plot time range is restricted to a subset within the load, use the `tbegin` and `tend` arguments:"
   ]
  },
  {
   "cell_type": "code",
   "execution_count": null,
   "metadata": {
    "collapsed": true
   },
   "outputs": [],
   "source": [
    "dp = lr.plot([(\"model\", \"1dpamzt\"), (\"msids\", \"1dpamzt\")], field2=\"pitch\", \n",
    "             tbegin=\"2017:222:00:20:30\", tend=\"2017:224:17:30:12\")"
   ]
  },
  {
   "cell_type": "markdown",
   "metadata": {},
   "source": [
    "Plots made with the `plot()` method also accept an `annotations` argument, which adds useful annotations to the plot from the load review. The available annotations are:\n",
    "\n",
    "* `\"comms\"`: Plot the times when we are in comm using pink bands.\n",
    "* `\"belts\"`: Plot the times spent in the belts using light purple bands.\n",
    "* `\"sim_trans\"`: Mark the times where there is a SIM translation with brown lines and lettering.\n",
    "* `\"cti_runs\"`: Mark the start and stop times of CTI runs with dashed green lines. \n",
    "* `\"perigee\"`: Mark the perigee point with a dashed blue line.\n",
    "* `\"apogee\"`: Mark the apogee point with a dotted blue line."
   ]
  },
  {
   "cell_type": "markdown",
   "metadata": {},
   "source": [
    "This example plots comm times from the load and times spent in the belts:"
   ]
  },
  {
   "cell_type": "code",
   "execution_count": null,
   "metadata": {
    "collapsed": true
   },
   "outputs": [],
   "source": [
    "dp = lr.plot([(\"model\", \"1dpamzt\"), (\"msids\", \"1dpamzt\")], field2=\"pitch\", \n",
    "             tbegin=\"2017:222:00:20:30\", tend=\"2017:224:17:30:12\",\n",
    "             annotations=[\"comms\", \"belts\"])"
   ]
  },
  {
   "cell_type": "markdown",
   "metadata": {},
   "source": [
    "This example centers on a perigee passage and plots the sim translations, the point of perigee, and the beginnings and endings of CTI runs:"
   ]
  },
  {
   "cell_type": "code",
   "execution_count": null,
   "metadata": {
    "collapsed": true
   },
   "outputs": [],
   "source": [
    "dp = lr.plot([(\"model\", \"1dpamzt\"), (\"msids\", \"1dpamzt\")], field2=\"pitch\", \n",
    "             tbegin=\"2017:224:00:00:30\", tend=\"2017:225:17:30:12\",\n",
    "             annotations=[\"sim_trans\", \"cti_runs\", \"perigee\"])"
   ]
  }
 ],
 "metadata": {
  "anaconda-cloud": {},
  "kernelspec": {
   "display_name": "Python [conda env:ska3]",
   "language": "python",
   "name": "python3"
  },
  "language_info": {
   "codemirror_mode": {
    "name": "ipython",
    "version": 3
   },
   "file_extension": ".py",
   "mimetype": "text/x-python",
   "name": "python",
   "nbconvert_exporter": "python",
   "pygments_lexer": "ipython3",
   "version": "3.6.2"
  }
 },
 "nbformat": 4,
 "nbformat_minor": 2
}
