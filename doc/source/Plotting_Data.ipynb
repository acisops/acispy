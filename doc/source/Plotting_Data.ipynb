{
 "cells": [
  {
   "cell_type": "markdown",
   "metadata": {},
   "source": [
    "ACISpy provides several classes for plotting various quantities. These plots can be \n",
    "modified and saved to disk, or used in an interactive session. To make plots appear in an\n",
    "interactive [IPython](http://ipython.org/) session, do one of the following:\n",
    "\n",
    "* In an IPython console: start as `ipython --matplotlib`\n",
    "* In an IPython Qt console or notebook: start the first cell with `%matplotlib inline`\n",
    "\n",
    "This documentation page is actually a runnable IPython notebook. A link to the raw notebook can be found at the bottom of the page. \n",
    "\n",
    "For the example plots we'll show, we'll use this `DataContainer`:"
   ]
  },
  {
   "cell_type": "code",
   "execution_count": null,
   "metadata": {
    "collapsed": false
   },
   "outputs": [],
   "source": [
    "# DON'T USE THIS LINE IF YOU ARE RUNNING IN THE IPYTHON COMMAND-LINE CONSOLE\n",
    "%matplotlib inline"
   ]
  },
  {
   "cell_type": "code",
   "execution_count": null,
   "metadata": {
    "collapsed": false
   },
   "outputs": [],
   "source": [
    "import acispy\n",
    "msids = [\"1dpamzt\", \"1deamzt\", \"1dp28avo\"]\n",
    "dc = acispy.DataContainer.fetch_from_database(\"2015:001\", \"2015:030\", \n",
    "                                              msid_keys=msids,\n",
    "                                              interpolate_msids=True)"
   ]
  },
  {
   "cell_type": "markdown",
   "metadata": {},
   "source": [
    "## Creating Plots of Data vs. Time"
   ]
  },
  {
   "cell_type": "markdown",
   "metadata": {},
   "source": [
    "The `DatePlot` object can be used to make a single-panel plot of one\n",
    "or more quantities versus the date and time. \n",
    "\n",
    "Plot of one MSID vs. time:\n"
   ]
  },
  {
   "cell_type": "code",
   "execution_count": null,
   "metadata": {
    "collapsed": false
   },
   "outputs": [],
   "source": [
    "dp1 = acispy.DatePlot(dc, (\"msids\", \"1dpamzt\"))"
   ]
  },
  {
   "cell_type": "markdown",
   "metadata": {},
   "source": [
    "Plot of two MSIDs together vs. time:"
   ]
  },
  {
   "cell_type": "code",
   "execution_count": null,
   "metadata": {
    "collapsed": false
   },
   "outputs": [],
   "source": [
    "dp2 = acispy.DatePlot(dc, [(\"msids\", \"1dpamzt\"), (\"msids\", \"1deamzt\")])"
   ]
  },
  {
   "cell_type": "markdown",
   "metadata": {},
   "source": [
    "Plot of an MSID on the left y-axis and a state on the right y-axis:"
   ]
  },
  {
   "cell_type": "code",
   "execution_count": null,
   "metadata": {
    "collapsed": false
   },
   "outputs": [],
   "source": [
    "dp3 = acispy.DatePlot(dc, (\"msids\", \"1dpamzt\"), field2=(\"states\", \"pitch\")) "
   ]
  },
  {
   "cell_type": "markdown",
   "metadata": {},
   "source": [
    "A number of options can be used to modify the `DatePlot` when creating it. For example, the width and color of the lines can be changed:"
   ]
  },
  {
   "cell_type": "code",
   "execution_count": null,
   "metadata": {
    "collapsed": false
   },
   "outputs": [],
   "source": [
    "dp4 = acispy.DatePlot(dc, (\"msids\", \"1dpamzt\"), field2=(\"states\", \"pitch\"),\n",
    "                      lw=2, colors=\"green\", color2=\"purple\")  "
   ]
  },
  {
   "cell_type": "markdown",
   "metadata": {},
   "source": [
    "## Creating Multi-Panel Plots"
   ]
  },
  {
   "cell_type": "markdown",
   "metadata": {},
   "source": [
    "The `MultiDatePlot` object can be used to make a multiple-panel plot of multiple quantities versus the date and time. \n",
    "\n",
    "By default the panels are stacked vertically:"
   ]
  },
  {
   "cell_type": "code",
   "execution_count": null,
   "metadata": {
    "collapsed": false
   },
   "outputs": [],
   "source": [
    "mdp1 = acispy.MultiDatePlot(dc, [(\"states\", \"pitch\"), \n",
    "                                 (\"msids\", \"1deamzt\"), \n",
    "                                 (\"states\",\"ccd_count\")],\n",
    "                            lw=2, fontsize=17)"
   ]
  },
  {
   "cell_type": "markdown",
   "metadata": {},
   "source": [
    "But by using the `subplots` keyword argument, the panels can be arranged in a `(n_plot_x, n_plot_y)` fashion:"
   ]
  },
  {
   "cell_type": "code",
   "execution_count": null,
   "metadata": {
    "collapsed": false
   },
   "outputs": [],
   "source": [
    "panels = [(\"states\", \"pitch\"), (\"msids\", \"1deamzt\"), \n",
    "          (\"states\", \"ccd_count\"), (\"msids\", \"1dpamzt\")]\n",
    "mdp2 = acispy.MultiDatePlot(dc, panels, subplots=(2,2))"
   ]
  },
  {
   "cell_type": "markdown",
   "metadata": {},
   "source": [
    "By nesting lists, it's also possible to make subplots which have more than one quantity in a panel:"
   ]
  },
  {
   "cell_type": "code",
   "execution_count": null,
   "metadata": {
    "collapsed": true
   },
   "outputs": [],
   "source": [
    "fields = [[(\"msids\", \"1deamzt\"), (\"msids\", \"1dpamzt\")], #  # Note the first item in the list is another list\n",
    "          (\"states\", \"ccd_count\")]                                                  "
   ]
  },
  {
   "cell_type": "code",
   "execution_count": null,
   "metadata": {
    "collapsed": false
   },
   "outputs": [],
   "source": [
    "mdp3 = acispy.MultiDatePlot(dc, fields, lw=2, fontsize=17)"
   ]
  },
  {
   "cell_type": "markdown",
   "metadata": {},
   "source": [
    "You can access each individual `DatePlot` panel in the `MultiDatePlot` in key-like fashion. For panels with more than one field plotted, the key for that panel is the specification for the first field:"
   ]
  },
  {
   "cell_type": "code",
   "execution_count": null,
   "metadata": {
    "collapsed": false
   },
   "outputs": [],
   "source": [
    "print mdp1[\"states\", \"ccd_count\"]\n",
    "print mdp3[\"msids\", \"1deamzt\"] # This one has (\"msids\", \"1dpamzt\") also"
   ]
  },
  {
   "cell_type": "markdown",
   "metadata": {},
   "source": [
    "The above is not very useful by itself, but will come in handy later when we want to make modifications to individual panels, as we'll show below. "
   ]
  },
  {
   "cell_type": "markdown",
   "metadata": {},
   "source": [
    "## Creating Phase Plots"
   ]
  },
  {
   "cell_type": "markdown",
   "metadata": {},
   "source": [
    "A `PhasePlot` shows one quantity plotted versus another. This can behelpful when trying to determine the behavior of one MSID versus another, or the dependence of an MSID on a particular commanded state. \n",
    "\n",
    "There is an important caveat about `PhasePlot`s: it is required that the data are interpolated to a common set of times. This requires that you have set `interpolate_msids=True` in the `DataContainer.fetch_from_database()` call, or\n",
    "that you have mapped a state to a MSID. \n",
    "\n",
    "A plot of one MSID vs. another:"
   ]
  },
  {
   "cell_type": "code",
   "execution_count": null,
   "metadata": {
    "collapsed": false
   },
   "outputs": [],
   "source": [
    "pp1 = acispy.PhasePlot(dc, (\"msids\", \"1dpamzt\"), (\"msids\", \"1deamzt\"))"
   ]
  },
  {
   "cell_type": "markdown",
   "metadata": {},
   "source": [
    "A plot of a MSID vs. a state:"
   ]
  },
  {
   "cell_type": "code",
   "execution_count": null,
   "metadata": {
    "collapsed": false
   },
   "outputs": [],
   "source": [
    "# Must map the state to the MSID times we want to map them to\n",
    "dc.map_state_to_msid(\"pitch\", \"1deamzt\")\n",
    "pp2 = acispy.PhasePlot(dc, (\"msids\", \"pitch\"), (\"msids\", \"1deamzt\"))"
   ]
  },
  {
   "cell_type": "markdown",
   "metadata": {},
   "source": [
    "A plot of one state vs. another (no interpolation required in this case):"
   ]
  },
  {
   "cell_type": "code",
   "execution_count": null,
   "metadata": {
    "collapsed": false
   },
   "outputs": [],
   "source": [
    "pp3 = acispy.PhasePlot(dc, (\"states\", \"pitch\"), (\"states\", \"roll\"))"
   ]
  },
  {
   "cell_type": "markdown",
   "metadata": {},
   "source": [
    "`PhasePlot`s can also have their data points colored by a third quantity. To do this, we simply specify a third field in the argument `c_field`. Like the other fields, it must be interpolated to the same set of times. The `cmap` argument can change the colormap."
   ]
  },
  {
   "cell_type": "code",
   "execution_count": null,
   "metadata": {
    "collapsed": false
   },
   "outputs": [],
   "source": [
    "pp4 = acispy.PhasePlot(dc, (\"msids\", \"1dpamzt\"), (\"msids\", \"1deamzt\"), \n",
    "                       c_field=('msids', 'pitch'), cmap='hsv')"
   ]
  },
  {
   "cell_type": "markdown",
   "metadata": {},
   "source": [
    "## Plot Modifications"
   ]
  },
  {
   "cell_type": "markdown",
   "metadata": {},
   "source": [
    "The various plotting classes have methods to modify the plots after creating them. These include methods to control the limits of the plots, change plot labels, add titles, text, legends, lines, and grids, and save plots to disk. "
   ]
  },
  {
   "cell_type": "markdown",
   "metadata": {},
   "source": [
    "### Changing Plot Limits"
   ]
  },
  {
   "cell_type": "markdown",
   "metadata": {},
   "source": [
    "For `DatePlot` and `MultiDatePlot`, the date/time limits on the x-axis can be set using `DatePlot.set_xlim`. For example, the single plot of 1DPAMZT above can be rescaled:"
   ]
  },
  {
   "cell_type": "code",
   "execution_count": null,
   "metadata": {
    "collapsed": false
   },
   "outputs": [],
   "source": [
    "dp1.set_xlim(\"2015:012\", \"2015:022\")\n",
    "dp1"
   ]
  },
  {
   "cell_type": "markdown",
   "metadata": {},
   "source": [
    "For `DatePlot` objects, `set_ylim()` and `set_ylim2()` can be used to control the limits of the\n",
    "left and right y-axes of the plot, respectively:"
   ]
  },
  {
   "cell_type": "code",
   "execution_count": null,
   "metadata": {
    "collapsed": false
   },
   "outputs": [],
   "source": [
    "dp3.set_ylim(10, 35)\n",
    "dp3.set_ylim2(60, 140)\n",
    "dp3"
   ]
  },
  {
   "cell_type": "markdown",
   "metadata": {},
   "source": [
    "Since the individual panels of each `MultiDatePlot` are `DatePlot` instances, these methods work on the individual panels as well (note here the limits of the bottom panel change):"
   ]
  },
  {
   "cell_type": "code",
   "execution_count": null,
   "metadata": {
    "collapsed": false
   },
   "outputs": [],
   "source": [
    "mdp1[\"states\", \"ccd_count\"].set_ylim(0, 7)\n",
    "mdp1"
   ]
  },
  {
   "cell_type": "markdown",
   "metadata": {},
   "source": [
    "### Changing Plot Labels"
   ]
  },
  {
   "cell_type": "markdown",
   "metadata": {},
   "source": [
    "`set_ylabel()` and `set_ylabel2()` can be used to control the labels of the left and right y-axes of a `DatePlot`, respectively:"
   ]
  },
  {
   "cell_type": "code",
   "execution_count": null,
   "metadata": {
    "collapsed": false
   },
   "outputs": [],
   "source": [
    "dp3.set_ylabel(\"DPA Temperature\")\n",
    "dp3.set_ylabel2(\"Pitch Angle\")\n",
    "dp3"
   ]
  },
  {
   "cell_type": "markdown",
   "metadata": {},
   "source": [
    "`PhasePlot` has similar methods for setting the labels on the x and y-axes, `set_xlabel()` and `set_ylabel()`:"
   ]
  },
  {
   "cell_type": "code",
   "execution_count": null,
   "metadata": {
    "collapsed": false
   },
   "outputs": [],
   "source": [
    "pp1.set_xlabel(\"DPA Temp\")\n",
    "pp1.set_ylabel(\"DEA Temp\")\n",
    "pp1"
   ]
  },
  {
   "cell_type": "markdown",
   "metadata": {},
   "source": [
    "### Adding Vertical and Horizontal Lines to a Plot"
   ]
  },
  {
   "cell_type": "markdown",
   "metadata": {},
   "source": [
    "Vertical and horizontal lines may be added to any of the plot types using the `add_hline()` and `add_vline()` methods. The appearance of the lines can be controlled. For example, we'll add a vertical dashed brown line on plot `dp1` at midnight on day 16 of the year 2015, with a line width of 3. "
   ]
  },
  {
   "cell_type": "code",
   "execution_count": null,
   "metadata": {
    "collapsed": false
   },
   "outputs": [],
   "source": [
    "dp1.add_vline(\"2015:016:00:00:00.000\", lw=3, ls='dashed', color='brown')\n",
    "dp1"
   ]
  },
  {
   "cell_type": "markdown",
   "metadata": {},
   "source": [
    "Next, we'll add a green horizontal dash-dot line at 25$^\\circ$C:"
   ]
  },
  {
   "cell_type": "code",
   "execution_count": null,
   "metadata": {
    "collapsed": false
   },
   "outputs": [],
   "source": [
    "dp1.add_hline(25, lw=3, ls='dashdot', color='green')\n",
    "dp1"
   ]
  },
  {
   "cell_type": "markdown",
   "metadata": {},
   "source": [
    "For a `DatePlot` with both left and right y-axes, horizonal lines can be added for both scales (use `add_hline2()` for the right y-axis):"
   ]
  },
  {
   "cell_type": "code",
   "execution_count": null,
   "metadata": {
    "collapsed": false
   },
   "outputs": [],
   "source": [
    "dp3.add_hline(20, lw=2, ls='solid', color='green')\n",
    "dp3.add_hline2(110, lw=2, ls='dotted', color='brown')\n",
    "dp3"
   ]
  },
  {
   "cell_type": "markdown",
   "metadata": {},
   "source": [
    "Adding a vertical line to a `MultiDatePlot` adds it to all panels, whereas to add a horizontal line to a panel you must add it to the individual plot:"
   ]
  },
  {
   "cell_type": "code",
   "execution_count": null,
   "metadata": {
    "collapsed": false
   },
   "outputs": [],
   "source": [
    "mdp1.add_vline(\"2015:012:12:45:56.031\", color='purple', lw=3, ls='dashed')\n",
    "mdp1[\"states\", \"ccd_count\"].add_hline(5, color='green', lw=2)\n",
    "mdp1"
   ]
  },
  {
   "cell_type": "markdown",
   "metadata": {},
   "source": [
    "### Adding a Title to a Plot"
   ]
  },
  {
   "cell_type": "markdown",
   "metadata": {},
   "source": [
    "The `set_title()` method for any of the plot types can be used to add a title to the top of the plot:"
   ]
  },
  {
   "cell_type": "code",
   "execution_count": null,
   "metadata": {
    "collapsed": false
   },
   "outputs": [],
   "source": [
    "mdp1.set_title(\"Three Plots\", fontsize=20, loc='left') # \"loc\" sets the horizontal location of the title\n",
    "mdp1"
   ]
  },
  {
   "cell_type": "code",
   "execution_count": null,
   "metadata": {
    "collapsed": false
   },
   "outputs": [],
   "source": [
    "pp1.set_title(\"Temperature vs. Temperature\", fontsize=18)\n",
    "pp1"
   ]
  },
  {
   "cell_type": "markdown",
   "metadata": {},
   "source": [
    "### Customizing a Legend on a `DatePlot`"
   ]
  },
  {
   "cell_type": "markdown",
   "metadata": {},
   "source": [
    "A `DatePlot` with multiple lines plotted on the left y-axis has a legend. This legend can be customized, by moving its location or changing the font size, using `set_legend()`:"
   ]
  },
  {
   "cell_type": "code",
   "execution_count": null,
   "metadata": {
    "collapsed": false
   },
   "outputs": [],
   "source": [
    "dp2.set_legend(loc=\"lower left\", fontsize=20) # loc sets location\n",
    "dp2"
   ]
  },
  {
   "cell_type": "markdown",
   "metadata": {},
   "source": [
    "If you want to modify one of the labels in the legend, use the `set_field_label()` method:"
   ]
  },
  {
   "cell_type": "code",
   "execution_count": null,
   "metadata": {
    "collapsed": false
   },
   "outputs": [],
   "source": [
    "dp2.set_field_label((\"msids\", \"1deamzt\"), \"DEA Temperature\")\n",
    "dp2"
   ]
  },
  {
   "cell_type": "markdown",
   "metadata": {},
   "source": [
    "### Adding Grid Lines to a Plot"
   ]
  },
  {
   "cell_type": "markdown",
   "metadata": {},
   "source": [
    "For any of the plot types, call the `set_grid()` to method to turn grid lines on \n",
    "and off on the plot:"
   ]
  },
  {
   "cell_type": "code",
   "execution_count": null,
   "metadata": {
    "collapsed": false
   },
   "outputs": [],
   "source": [
    "dp3.set_grid(True)\n",
    "dp3"
   ]
  },
  {
   "cell_type": "markdown",
   "metadata": {},
   "source": [
    "### Adding Text to Plots"
   ]
  },
  {
   "cell_type": "markdown",
   "metadata": {},
   "source": [
    "Text can be added to a `DatePlot` or `PhasePlot` by calling the `add_text()` method:"
   ]
  },
  {
   "cell_type": "code",
   "execution_count": null,
   "metadata": {
    "collapsed": false
   },
   "outputs": [],
   "source": [
    "dp1.add_text(\"2015:017:00:00:00\", 8, \"The DPA gets hotter.\")\n",
    "dp1"
   ]
  },
  {
   "cell_type": "code",
   "execution_count": null,
   "metadata": {
    "collapsed": false
   },
   "outputs": [],
   "source": [
    "pp1.add_text(30, 10, \"No data down here!\", color='red', fontsize=17, rotation='45')\n",
    "pp1"
   ]
  },
  {
   "cell_type": "markdown",
   "metadata": {},
   "source": [
    "### Saving Plots to Disk"
   ]
  },
  {
   "cell_type": "markdown",
   "metadata": {},
   "source": [
    "Finally, for any of the plot types, call `savefig()` to save the figure:"
   ]
  },
  {
   "cell_type": "code",
   "execution_count": null,
   "metadata": {
    "collapsed": true
   },
   "outputs": [],
   "source": [
    "pp1.savefig(\"phase_plot.png\")"
   ]
  }
 ],
 "metadata": {
  "kernelspec": {
   "display_name": "Python 2",
   "language": "python",
   "name": "python2"
  },
  "language_info": {
   "codemirror_mode": {
    "name": "ipython",
    "version": 2
   },
   "file_extension": ".py",
   "mimetype": "text/x-python",
   "name": "python",
   "nbconvert_exporter": "python",
   "pygments_lexer": "ipython2",
   "version": "2.7.11"
  }
 },
 "nbformat": 4,
 "nbformat_minor": 0
}
