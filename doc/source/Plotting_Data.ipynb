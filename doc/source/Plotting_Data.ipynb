{
 "cells": [
  {
   "cell_type": "markdown",
   "source": [
    "# Plotting Data\n",
    "\n",
    "ACISpy provides several classes for plotting various quantities. These plots can be \n",
    "modified and saved to disk, or used in an interactive session. To make plots appear in an\n",
    "interactive [IPython](http://ipython.org/) session, do one of the following:\n",
    "\n",
    "* In an IPython console: start as `ipython --matplotlib`\n",
    "* In an IPython Qt console or notebook: start the first cell with `%matplotlib inline`\n",
    "\n",
    "This documentation page is actually a runnable IPython notebook. A link to the raw notebook can be found at the bottom of the page. \n",
    "\n",
    "For the example plots we'll show, we'll use this `Dataset`:"
   ],
   "metadata": {}
  },
  {
   "cell_type": "code",
   "execution_count": null,
   "source": [
    "import acispy\n",
    "msids = [\"1dpamzt\", \"1deamzt\", \"1dp28avo\",\"aopcadmd\"]\n",
    "ds = acispy.EngArchiveData(\"2016:318\", \"2016:338\", msids, stat='5min')"
   ],
   "outputs": [],
   "metadata": {
    "collapsed": true
   }
  },
  {
   "cell_type": "markdown",
   "source": [
    "## Creating Plots of Data vs. Time"
   ],
   "metadata": {}
  },
  {
   "cell_type": "markdown",
   "source": [
    "### DatePlot"
   ],
   "metadata": {}
  },
  {
   "cell_type": "markdown",
   "source": [
    "The `DatePlot` object can be used to make a single-panel plot of one\n",
    "or more quantities versus the date and time. \n",
    "\n",
    "Plot of one MSID vs. time:\n"
   ],
   "metadata": {}
  },
  {
   "cell_type": "code",
   "execution_count": null,
   "source": [
    "dp1 = acispy.DatePlot(ds, \"1dpamzt\")"
   ],
   "outputs": [],
   "metadata": {}
  },
  {
   "cell_type": "markdown",
   "source": [
    "Plot of two MSIDs together vs. time:"
   ],
   "metadata": {}
  },
  {
   "cell_type": "code",
   "execution_count": null,
   "source": [
    "dp2 = acispy.DatePlot(ds, [\"1dpamzt\", \"1deamzt\"])"
   ],
   "outputs": [],
   "metadata": {}
  },
  {
   "cell_type": "markdown",
   "source": [
    "Plot of an MSID on the left y-axis and a state on the right y-axis:"
   ],
   "metadata": {}
  },
  {
   "cell_type": "code",
   "execution_count": null,
   "source": [
    "dp3 = acispy.DatePlot(ds, \"1dpamzt\", field2=\"pitch\") "
   ],
   "outputs": [],
   "metadata": {}
  },
  {
   "cell_type": "markdown",
   "source": [
    "A number of options can be used to modify the `DatePlot` when creating it. For example, the width and color of the lines can be changed:"
   ],
   "metadata": {}
  },
  {
   "cell_type": "code",
   "execution_count": null,
   "source": [
    "dp4 = acispy.DatePlot(ds, \"1dpamzt\", field2=\"pitch\", lw=2, color=\"green\", color2=\"purple\")  "
   ],
   "outputs": [],
   "metadata": {}
  },
  {
   "cell_type": "markdown",
   "source": [
    "Some MSIDs do not correspond to particular numbers but have \"state\" values. These can be plotted as well:"
   ],
   "metadata": {}
  },
  {
   "cell_type": "code",
   "execution_count": null,
   "source": [
    "dp = acispy.DatePlot(ds, \"1dpamzt\", field2=\"aopcadmd\")\n",
    "dp.tight_layout()"
   ],
   "outputs": [],
   "metadata": {}
  },
  {
   "cell_type": "markdown",
   "source": [
    "### CustomDatePlot"
   ],
   "metadata": {}
  },
  {
   "cell_type": "markdown",
   "source": [
    "One may want to make a plot of data vs. time that isn't restricted to the quantities in a `Dataset`. For this, ACISpy provides a `CustomDatePlot` class which can take an array of date/time strings and a corresponding array of quantities."
   ],
   "metadata": {}
  },
  {
   "cell_type": "code",
   "execution_count": null,
   "source": [
    "# Ratio of 1DEAMZT to 1DPAMZT\n",
    "times = ds.dates(\"1deamzt\")\n",
    "tratio = ds[\"1deamzt\"]/ds[\"1dpamzt\"]\n",
    "dp5 = acispy.CustomDatePlot(times, tratio)\n",
    "dp5.set_ylabel(r\"$\\mathrm{T_{DEA}/T_{DPA}}$\")"
   ],
   "outputs": [],
   "metadata": {
    "scrolled": false
   }
  },
  {
   "cell_type": "markdown",
   "source": [
    "### Plot a DatePlot/CustomDatePlot with Another "
   ],
   "metadata": {}
  },
  {
   "cell_type": "markdown",
   "source": [
    "It's also possible to use the Matplotlib `Figure` and `Axes` from an existing `DatePlot`/`CustomDatePlot` object for another one. Use the optional `plot` keyword argument and the plots will be shared:"
   ],
   "metadata": {}
  },
  {
   "cell_type": "code",
   "execution_count": null,
   "source": [
    "dp6 = acispy.DatePlot(ds, \"1deamzt\")\n",
    "dp7 = acispy.CustomDatePlot(times, ds[\"1dpamzt\"], plot=dp6)\n",
    "dp7.set_ylabel(\"DPA and DEA\")\n"
   ],
   "outputs": [],
   "metadata": {}
  },
  {
   "cell_type": "markdown",
   "source": [
    "Operations which are performed on either `DatePlot`/`CustomDatePlot` object will automatically apply. "
   ],
   "metadata": {}
  },
  {
   "cell_type": "markdown",
   "source": [
    "## Creating Multi-Panel Plots"
   ],
   "metadata": {}
  },
  {
   "cell_type": "markdown",
   "source": [
    "The `MultiDatePlot` object can be used to make a multiple-panel plot of multiple quantities versus the date and time. \n",
    "\n",
    "By default the panels are stacked vertically:"
   ],
   "metadata": {}
  },
  {
   "cell_type": "code",
   "execution_count": null,
   "source": [
    "mdp1 = acispy.MultiDatePlot(ds, [\"pitch\", \"1deamzt\", \"ccd_count\"], lw=2, fontsize=17)"
   ],
   "outputs": [],
   "metadata": {}
  },
  {
   "cell_type": "markdown",
   "source": [
    "But by using the `subplots` keyword argument, the panels can be arranged in a `(n_plot_x, n_plot_y)` fashion:"
   ],
   "metadata": {}
  },
  {
   "cell_type": "code",
   "execution_count": null,
   "source": [
    "panels = [\"pitch\", \"1deamzt\", \"ccd_count\", \"1dpamzt\"]\n",
    "mdp2 = acispy.MultiDatePlot(ds, panels, subplots=(2,2))"
   ],
   "outputs": [],
   "metadata": {}
  },
  {
   "cell_type": "markdown",
   "source": [
    "By nesting lists, it's also possible to make subplots which have more than one quantity in a panel:"
   ],
   "metadata": {}
  },
  {
   "cell_type": "code",
   "execution_count": null,
   "source": [
    "# Note the first item in the list is another list\n",
    "fields = [[\"1deamzt\", \"1dpamzt\"], \"ccd_count\"]                                                  "
   ],
   "outputs": [],
   "metadata": {
    "collapsed": true
   }
  },
  {
   "cell_type": "code",
   "execution_count": null,
   "source": [
    "mdp3 = acispy.MultiDatePlot(ds, fields, lw=2, fontsize=17)"
   ],
   "outputs": [],
   "metadata": {}
  },
  {
   "cell_type": "markdown",
   "source": [
    "You can access each individual `DatePlot` panel in the `MultiDatePlot` in key-like fashion. For panels with more than one field plotted, the key for that panel is the specification for the first field:"
   ],
   "metadata": {}
  },
  {
   "cell_type": "code",
   "execution_count": null,
   "source": [
    "print(mdp1[\"ccd_count\"])\n",
    "print(mdp3[\"1deamzt\"]) # This one has \"1dpamzt\" also"
   ],
   "outputs": [],
   "metadata": {
    "tags": []
   }
  },
  {
   "cell_type": "markdown",
   "source": [
    "The above is not very useful by itself, but will come in handy later when we want to make modifications to individual panels, as we'll show below. "
   ],
   "metadata": {}
  },
  {
   "cell_type": "markdown",
   "source": [
    "## Creating Histogram Plots"
   ],
   "metadata": {}
  },
  {
   "cell_type": "markdown",
   "source": [
    "A `HistogramPlot` takes a state, MSID, or other data and produces a 1D histogram from it, which is weighted by time in kiloseconds:"
   ],
   "metadata": {}
  },
  {
   "cell_type": "code",
   "execution_count": null,
   "source": [
    "hp = acispy.HistogramPlot(ds, \"pitch\", bins=20)"
   ],
   "outputs": [],
   "metadata": {}
  },
  {
   "cell_type": "markdown",
   "source": [
    "## Creating Phase Plots"
   ],
   "metadata": {}
  },
  {
   "cell_type": "markdown",
   "source": [
    "A `PhasePlot` shows one quantity plotted versus another. This can behelpful when trying to determine the behavior of one MSID versus another, or the dependence of an MSID on a particular commanded state. \n",
    "\n",
    "There is an important caveat about `PhasePlot`s: it is required that the data are interpolated to a common set of times. This requires that you have set `stat=\"5min\"` in the `EngArchiveData` call (the default), or that you have mapped a state to a MSID. \n",
    "\n",
    "There are two kinds of `PhasePlot`s in ACISpy: a `PhaseScatterPlot` and a `PhaseHistogramPlot`, which both plot one quantity vs. another but the former shows them as scattered points and the latter bins them up into a 2D histogram.\n",
    "\n",
    "A histogram plot of one MSID vs. another:"
   ],
   "metadata": {}
  },
  {
   "cell_type": "code",
   "execution_count": null,
   "source": [
    "xbins = 50 # These can be integers or arrays specifying the bin edges\n",
    "ybins = 50 # These can be integers or arrays specifying the bin edges\n",
    "pp1 = acispy.PhaseHistogramPlot(ds, \"1dpamzt\", \"1deamzt\", xbins, ybins, scale='log')"
   ],
   "outputs": [],
   "metadata": {}
  },
  {
   "cell_type": "markdown",
   "source": [
    "A scatter plot of a MSID vs. a state:"
   ],
   "metadata": {}
  },
  {
   "cell_type": "code",
   "execution_count": null,
   "source": [
    "# Must map the state to the MSID times we want to map them to\n",
    "ds.map_state_to_msid(\"pitch\", \"1deamzt\")\n",
    "pp2 = acispy.PhaseScatterPlot(ds, (\"msids\", \"pitch\"), \"1deamzt\")"
   ],
   "outputs": [],
   "metadata": {}
  },
  {
   "cell_type": "markdown",
   "source": [
    "A plot of one state vs. another (no interpolation required in this case):"
   ],
   "metadata": {}
  },
  {
   "cell_type": "code",
   "execution_count": null,
   "source": [
    "pp3 = acispy.PhaseScatterPlot(ds, (\"states\", \"pitch\"), \"roll\")"
   ],
   "outputs": [],
   "metadata": {}
  },
  {
   "cell_type": "markdown",
   "source": [
    "`PhaseScatterPlot`s can also have their data points colored by a third quantity. To do this, we simply specify a third field in the argument `c_field`. Like the other fields, it must be interpolated to the same set of times. The `cmap` argument can change the colormap."
   ],
   "metadata": {}
  },
  {
   "cell_type": "code",
   "execution_count": null,
   "source": [
    "pp4 = acispy.PhaseScatterPlot(ds, \"1dpamzt\", \"1deamzt\", c_field=('msids', 'pitch'), cmap='hsv')"
   ],
   "outputs": [],
   "metadata": {}
  },
  {
   "cell_type": "markdown",
   "source": [
    "## Plot Modifications"
   ],
   "metadata": {}
  },
  {
   "cell_type": "markdown",
   "source": [
    "The various plotting classes have methods to modify the plots after creating them. These include methods to control the limits of the plots, change plot labels, add titles, text, legends, lines, and grids, and save plots to disk. "
   ],
   "metadata": {}
  },
  {
   "cell_type": "markdown",
   "source": [
    "### Changing Plot Limits"
   ],
   "metadata": {}
  },
  {
   "cell_type": "markdown",
   "source": [
    "For `DatePlot` and `MultiDatePlot`, the date/time limits on the x-axis can be set using `DatePlot.set_xlim`. For example, the single plot of 1DPAMZT above can be rescaled:"
   ],
   "metadata": {}
  },
  {
   "cell_type": "code",
   "execution_count": null,
   "source": [
    "dp1.set_xlim(\"2016:320\", \"2016:328\")\n",
    "dp1"
   ],
   "outputs": [],
   "metadata": {}
  },
  {
   "cell_type": "markdown",
   "source": [
    "For `DatePlot` objects, `set_ylim()` and `set_ylim2()` can be used to control the limits of the\n",
    "left and right y-axes of the plot, respectively:"
   ],
   "metadata": {}
  },
  {
   "cell_type": "code",
   "execution_count": null,
   "source": [
    "dp3.set_ylim(10, 35)\n",
    "dp3.set_ylim2(60, 140)\n",
    "dp3"
   ],
   "outputs": [],
   "metadata": {}
  },
  {
   "cell_type": "markdown",
   "source": [
    "Since the individual panels of each `MultiDatePlot` are `DatePlot` instances, these methods work on the individual panels as well (note here the limits of the bottom panel change):"
   ],
   "metadata": {}
  },
  {
   "cell_type": "code",
   "execution_count": null,
   "source": [
    "mdp1[\"ccd_count\"].set_ylim(0, 7)\n",
    "mdp1"
   ],
   "outputs": [],
   "metadata": {}
  },
  {
   "cell_type": "markdown",
   "source": [
    "### Changing Plot Labels"
   ],
   "metadata": {}
  },
  {
   "cell_type": "markdown",
   "source": [
    "`set_ylabel()` and `set_ylabel2()` can be used to control the labels of the left and right y-axes of a `DatePlot`, respectively:"
   ],
   "metadata": {}
  },
  {
   "cell_type": "code",
   "execution_count": null,
   "source": [
    "dp3.set_ylabel(\"DPA Temperature\")\n",
    "dp3.set_ylabel2(\"Pitch Angle\")\n",
    "dp3"
   ],
   "outputs": [],
   "metadata": {}
  },
  {
   "cell_type": "markdown",
   "source": [
    "`PhaseScatterPlot` and `PhaseHistogramPlot` have similar methods for setting the labels on the x and y-axes, `set_xlabel()` and `set_ylabel()`:"
   ],
   "metadata": {}
  },
  {
   "cell_type": "markdown",
   "source": [
    "### Adding Vertical and Horizontal Lines to a Plot"
   ],
   "metadata": {}
  },
  {
   "cell_type": "markdown",
   "source": [
    "Vertical and horizontal lines may be added to any of the plot types using the `add_hline()` and `add_vline()` methods. The appearance of the lines can be controlled. For example, we'll add a vertical dashed brown line on plot `dp1` at midnight on day 16 of the year 2015, with a line width of 3. "
   ],
   "metadata": {}
  },
  {
   "cell_type": "code",
   "execution_count": null,
   "source": [
    "dp1.add_vline(\"2016:325:00:00:00.000\", lw=3, ls='dashed', color='brown')\n",
    "dp1"
   ],
   "outputs": [],
   "metadata": {}
  },
  {
   "cell_type": "markdown",
   "source": [
    "Next, we'll add a green horizontal dash-dot line at 25$^\\circ$C:"
   ],
   "metadata": {}
  },
  {
   "cell_type": "code",
   "execution_count": null,
   "source": [
    "dp1.add_hline(25, lw=3, ls='dashdot', color='green')\n",
    "dp1"
   ],
   "outputs": [],
   "metadata": {}
  },
  {
   "cell_type": "markdown",
   "source": [
    "For a `DatePlot` with both left and right y-axes, horizonal lines can be added for both scales (use `add_hline2()` for the right y-axis):"
   ],
   "metadata": {}
  },
  {
   "cell_type": "code",
   "execution_count": null,
   "source": [
    "dp3.add_hline(20, lw=2, ls='solid', color='green')\n",
    "dp3.add_hline2(110, lw=2, ls='dotted', color='brown')\n",
    "dp3"
   ],
   "outputs": [],
   "metadata": {}
  },
  {
   "cell_type": "markdown",
   "source": [
    "Adding a vertical line to a `MultiDatePlot` adds it to all panels, whereas to add a horizontal line to a panel you must add it to the individual plot:"
   ],
   "metadata": {}
  },
  {
   "cell_type": "code",
   "execution_count": null,
   "source": [
    "mdp1.add_vline(\"2016:330:12:45:56.031\", color='purple', lw=3, ls='dashed')\n",
    "mdp1[\"ccd_count\"].add_hline(5, color='green', lw=2)\n",
    "mdp1"
   ],
   "outputs": [],
   "metadata": {}
  },
  {
   "cell_type": "markdown",
   "source": [
    "### Adding a Title to a Plot"
   ],
   "metadata": {}
  },
  {
   "cell_type": "markdown",
   "source": [
    "The `set_title()` method for any of the plot types can be used to add a title to the top of the plot:"
   ],
   "metadata": {}
  },
  {
   "cell_type": "code",
   "execution_count": null,
   "source": [
    "mdp1.set_title(\"Three Plots\", fontsize=20, loc='left') # \"loc\" sets the horizontal location of the title\n",
    "mdp1"
   ],
   "outputs": [],
   "metadata": {}
  },
  {
   "cell_type": "code",
   "execution_count": null,
   "source": [
    "pp1.set_title(\"Temperature vs. Temperature\", fontsize=18)\n",
    "pp1"
   ],
   "outputs": [],
   "metadata": {}
  },
  {
   "cell_type": "markdown",
   "source": [
    "### Annotating Obsids on a `DatePlot`"
   ],
   "metadata": {}
  },
  {
   "cell_type": "markdown",
   "source": [
    "The `annotate_obsids()` method allows one to annotate obsids on a plot, like so:"
   ],
   "metadata": {}
  },
  {
   "cell_type": "code",
   "execution_count": null,
   "source": [
    "dp_obsids = acispy.DatePlot(ds, \"1dpamzt\")\n",
    "dp_obsids.set_xlim(\"2016:327\", \"2016:331\")\n",
    "dp_obsids.annotate_obsids(36.0, fontsize=12)\n",
    "dp_obsids.set_ylim(None, 42.0)"
   ],
   "outputs": [],
   "metadata": {}
  },
  {
   "cell_type": "markdown",
   "source": [
    "By default maneuver obsids are not plotted, but one can choose to show them:"
   ],
   "metadata": {}
  },
  {
   "cell_type": "code",
   "execution_count": null,
   "source": [
    "dp_obsids.annotate_obsids(36.0, fontsize=12, show_manuvrs=True, manuvr_color=\"g\")\n",
    "dp_obsids"
   ],
   "outputs": [],
   "metadata": {}
  },
  {
   "cell_type": "markdown",
   "source": [
    "You can also use `annotate_obsids()` on a `CustomDatePlot` if you supply the dataset that was originally used to make that data that went into it. Note that here you may have to adjust some of the other properties of the annotations to get them to fit on the plot correctly: "
   ],
   "metadata": {}
  },
  {
   "cell_type": "code",
   "execution_count": null,
   "source": [
    "dp5.set_xlim(\"2016:324\", \"2016:327\")\n",
    "dp5.set_ylim(0.5, 1.17)\n",
    "dp5.annotate_obsids(1.0, ds=ds, fontsize=12, ywidth=0.1, txtheight=0.1)\n",
    "dp5"
   ],
   "outputs": [],
   "metadata": {}
  },
  {
   "cell_type": "markdown",
   "source": [
    "### Customizing a Legend on a `DatePlot`"
   ],
   "metadata": {}
  },
  {
   "cell_type": "markdown",
   "source": [
    "A `DatePlot` with multiple lines plotted on the left y-axis has a legend. This legend can be customized, by moving its location or changing the font size, using `set_legend()`:"
   ],
   "metadata": {}
  },
  {
   "cell_type": "code",
   "execution_count": null,
   "source": [
    "dp2.set_legend(loc=\"lower left\", fontsize=20) # loc sets location\n",
    "dp2"
   ],
   "outputs": [],
   "metadata": {}
  },
  {
   "cell_type": "markdown",
   "source": [
    "If you want to modify one of the labels in the legend, use the `set_field_label()` method:"
   ],
   "metadata": {}
  },
  {
   "cell_type": "code",
   "execution_count": null,
   "source": [
    "dp2.set_field_label(\"1deamzt\", \"DEA Temperature\")\n",
    "dp2"
   ],
   "outputs": [],
   "metadata": {}
  },
  {
   "cell_type": "markdown",
   "source": [
    "### Filling Between Two Times on a `DatePlot`"
   ],
   "metadata": {}
  },
  {
   "cell_type": "markdown",
   "source": [
    "Use the `fill_between()` method to fill between two dates on a `DatePlot` with a particular color. You can set the transparency as well using the `alpha` keyword argument."
   ],
   "metadata": {}
  },
  {
   "cell_type": "code",
   "execution_count": null,
   "source": [
    "start_fill = \"2016:323:01:10:00\"\n",
    "end_fill = \"2016:329:02:00:45\"\n",
    "color = \"magenta\"\n",
    "dp2.fill_between(start_fill, end_fill, color, alpha=0.5)\n",
    "dp2"
   ],
   "outputs": [],
   "metadata": {}
  },
  {
   "cell_type": "markdown",
   "source": [
    "### Adding Grid Lines to a Plot"
   ],
   "metadata": {}
  },
  {
   "cell_type": "markdown",
   "source": [
    "For any of the plot types, call the `set_grid()` to method to turn grid lines on \n",
    "and off on the plot:"
   ],
   "metadata": {}
  },
  {
   "cell_type": "code",
   "execution_count": null,
   "source": [
    "dp3.set_grid(True)\n",
    "dp3"
   ],
   "outputs": [],
   "metadata": {}
  },
  {
   "cell_type": "markdown",
   "source": [
    "### Adding Text to Plots"
   ],
   "metadata": {}
  },
  {
   "cell_type": "markdown",
   "source": [
    "Text can be added to a `DatePlot` or `PhasePlot` by calling the `add_text()` method:"
   ],
   "metadata": {}
  },
  {
   "cell_type": "code",
   "execution_count": null,
   "source": [
    "dp1.add_text(\"2016:321:00:00:00\", 8, \"The DPA gets hotter.\")\n",
    "dp1"
   ],
   "outputs": [],
   "metadata": {}
  },
  {
   "cell_type": "code",
   "execution_count": null,
   "source": [
    "pp1.add_text(30, 10, \"No data down here!\", color='red', fontsize=17, rotation=45)\n",
    "pp1"
   ],
   "outputs": [],
   "metadata": {}
  },
  {
   "cell_type": "markdown",
   "source": [
    "### Saving Plots to Disk"
   ],
   "metadata": {}
  },
  {
   "cell_type": "markdown",
   "source": [
    "Finally, for any of the plot types, call `savefig()` to save the figure:"
   ],
   "metadata": {}
  },
  {
   "cell_type": "code",
   "execution_count": null,
   "source": [
    "pp1.savefig(\"phase_plot.png\")"
   ],
   "outputs": [],
   "metadata": {
    "collapsed": true
   }
  }
 ],
 "metadata": {
  "anaconda-cloud": {},
  "language_info": {
   "codemirror_mode": {
    "name": "ipython",
    "version": 3
   },
   "file_extension": ".py",
   "mimetype": "text/x-python",
   "name": "python",
   "nbconvert_exporter": "python",
   "pygments_lexer": "ipython3",
   "version": "3.8.3-final"
  }
 },
 "nbformat": 4,
 "nbformat_minor": 1
}