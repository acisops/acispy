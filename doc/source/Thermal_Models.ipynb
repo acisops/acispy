{
 "cells": [
  {
   "cell_type": "markdown",
   "metadata": {
    "deletable": true,
    "editable": true
   },
   "source": [
    "ACISpy provides the ability to run [Xija](http://cxc.cfa.harvard.edu/mta/ASPECT/tool_doc/xija/index.html) thermal models via a special class, `ThermalModelRunner`. It takes as input an initial temperature, a dictionary of commanded states, and starting and stopping times for the model. The nice thing about `ThermalModelRunner` is that it is actually a `DataContainer` object, so we can look at the different fields, make plots, and create derived fields."
   ]
  },
  {
   "cell_type": "code",
   "execution_count": null,
   "metadata": {
    "collapsed": false,
    "deletable": true,
    "editable": true
   },
   "outputs": [],
   "source": [
    "# DON'T USE THIS LINE IF YOU ARE RUNNING IN THE IPYTHON COMMAND-LINE CONSOLE\n",
    "%matplotlib inline"
   ]
  },
  {
   "cell_type": "code",
   "execution_count": null,
   "metadata": {
    "collapsed": false,
    "deletable": true,
    "editable": true
   },
   "outputs": [],
   "source": [
    "from acispy import SimulateCTIRun, ThermalModelRunner, DatePlot, DataContainer, ThermalModelFromData\n",
    "import numpy as np\n",
    "import requests\n",
    "u = requests.get(\"http://cxc.cfa.harvard.edu/acis/DPA_thermPredic/FEB1517/oflsa/states.dat\")\n",
    "with open(\"my_states.dat\", 'w') as f:\n",
    "    f.write(u.text)"
   ]
  },
  {
   "cell_type": "markdown",
   "metadata": {
    "deletable": true,
    "editable": true
   },
   "source": [
    "## Running Thermal Models"
   ]
  },
  {
   "cell_type": "markdown",
   "metadata": {
    "deletable": true,
    "editable": true
   },
   "source": [
    "For simplicity, we'll pick constant states except change the CCD count."
   ]
  },
  {
   "cell_type": "code",
   "execution_count": null,
   "metadata": {
    "collapsed": true,
    "deletable": true,
    "editable": true
   },
   "outputs": [],
   "source": [
    "states = {\"ccd_count\": np.array([5,6,1]),\n",
    "          \"pitch\": np.array([150.0]*3),\n",
    "          \"fep_count\": np.array([5,6,1]),\n",
    "          \"clocking\": np.array([1]*3),\n",
    "          \"vid_board\": np.array([1]*3),\n",
    "          \"off_nominal_roll\": np.array([0.0]*3),\n",
    "          \"simpos\": np.array([-99616.0]*3)}"
   ]
  },
  {
   "cell_type": "markdown",
   "metadata": {
    "deletable": true,
    "editable": true
   },
   "source": [
    "Next, we'll specify the times corresponding to these state changes. Note that this is a list of two arrays of time strings, corresponding to the start and the stop times: "
   ]
  },
  {
   "cell_type": "code",
   "execution_count": null,
   "metadata": {
    "collapsed": true,
    "deletable": true,
    "editable": true
   },
   "outputs": [],
   "source": [
    "state_times = [[\"2015:002:00:00:00\",\"2015:002:12:00:00\",\"2015:003:12:00:00\"],\n",
    "               [\"2015:002:12:00:00\",\"2015:003:12:00:00\",\"2015:005:00:00:00\"]]"
   ]
  },
  {
   "cell_type": "markdown",
   "metadata": {
    "deletable": true,
    "editable": true
   },
   "source": [
    "Now decide on an initial temperature:"
   ]
  },
  {
   "cell_type": "code",
   "execution_count": null,
   "metadata": {
    "collapsed": true,
    "deletable": true,
    "editable": true
   },
   "outputs": [],
   "source": [
    "Tinit = 13.0 # in degrees C"
   ]
  },
  {
   "cell_type": "markdown",
   "metadata": {
    "deletable": true,
    "editable": true
   },
   "source": [
    "Now we'll create a `ThermalModelRunner` class given all of this information. The first argument has to be the model we want to run, `\"dea\"`, `\"dpa\"`, or `\"psmc\"`, and the second and third arguments have to be the beginning time and ending time of the thermal model: "
   ]
  },
  {
   "cell_type": "code",
   "execution_count": null,
   "metadata": {
    "collapsed": false,
    "deletable": true,
    "editable": true
   },
   "outputs": [],
   "source": [
    "dea_model = ThermalModelRunner(\"dea\", \"2015:002:00:00:00\", \"2015:005:00:00:00\", states, state_times, Tinit)"
   ]
  },
  {
   "cell_type": "markdown",
   "metadata": {
    "deletable": true,
    "editable": true
   },
   "source": [
    "We can now access the model data and states and make plots of them just as we can with any other `DataContainer` object:"
   ]
  },
  {
   "cell_type": "code",
   "execution_count": null,
   "metadata": {
    "collapsed": false,
    "deletable": true,
    "editable": true
   },
   "outputs": [],
   "source": [
    "print dea_model[\"model\",\"1deamzt\"][:10]"
   ]
  },
  {
   "cell_type": "code",
   "execution_count": null,
   "metadata": {
    "collapsed": false,
    "deletable": true,
    "editable": true
   },
   "outputs": [],
   "source": [
    "dp = DatePlot(dea_model, [(\"model\", \"1deamzt\")], field2=(\"states\",\"ccd_count\"))\n",
    "dp.set_ylim2(0,7)"
   ]
  },
  {
   "cell_type": "markdown",
   "metadata": {
    "deletable": true,
    "editable": true
   },
   "source": [
    "We can also dump the results of the model run to disk, both the states and the model components:"
   ]
  },
  {
   "cell_type": "code",
   "execution_count": null,
   "metadata": {
    "collapsed": false,
    "deletable": true,
    "editable": true
   },
   "outputs": [],
   "source": [
    "dea_model.write_model(\"model.dat\", overwrite=True)\n",
    "dea_model.write_states(\"states.dat\", overwrite=True)"
   ]
  },
  {
   "cell_type": "markdown",
   "metadata": {
    "deletable": true,
    "editable": true
   },
   "source": [
    "These files can be loaded in at a later date using `DataContainer.fetch_models_from_files()`."
   ]
  },
  {
   "cell_type": "markdown",
   "metadata": {
    "deletable": true,
    "editable": true
   },
   "source": [
    "## Running a Thermal Model from a `states.dat` file"
   ]
  },
  {
   "cell_type": "markdown",
   "metadata": {
    "deletable": true,
    "editable": true
   },
   "source": [
    "One can also run a thermal model from a `states.dat` table file which would be outputted by the thermal model check scripts during a load review, using the `from_states_table()` method (it is still necessary to supply start and stop times and an initial temperature):"
   ]
  },
  {
   "cell_type": "code",
   "execution_count": null,
   "metadata": {
    "collapsed": true,
    "deletable": true,
    "editable": true
   },
   "outputs": [],
   "source": [
    "tstart = '2017:035:18:27:42.816'\n",
    "tstop = '2017:051:05:33:26.816'\n",
    "T_init = 34.71"
   ]
  },
  {
   "cell_type": "code",
   "execution_count": null,
   "metadata": {
    "collapsed": true,
    "deletable": true,
    "editable": true
   },
   "outputs": [],
   "source": [
    "dpa_model = ThermalModelRunner.from_states_table(\"dpa\", tstart, tstop, \"my_states.dat\", T_init)"
   ]
  },
  {
   "cell_type": "markdown",
   "metadata": {
    "deletable": true,
    "editable": true
   },
   "source": [
    "## Running Thermal Models Using Real-Life Data"
   ]
  },
  {
   "cell_type": "markdown",
   "metadata": {
    "deletable": true,
    "editable": true
   },
   "source": [
    "If you want to use the commanded states database and the engineering archive as inputs for a model run, use the special class `ThermalModelFromData`, which will take MSIDs and states from a `DataContainer` instance and run a model using them:"
   ]
  },
  {
   "cell_type": "code",
   "execution_count": null,
   "metadata": {
    "collapsed": false,
    "deletable": true,
    "editable": true
   },
   "outputs": [],
   "source": [
    "dpa_model = ThermalModelFromData(\"2016:091:12:05:00.100\", \"2016:100:13:07:45.234\", \"dpa\")"
   ]
  },
  {
   "cell_type": "markdown",
   "metadata": {
    "deletable": true,
    "editable": true
   },
   "source": [
    "This can be used to plot MSID and model data simultaneously:"
   ]
  },
  {
   "cell_type": "code",
   "execution_count": null,
   "metadata": {
    "collapsed": false,
    "deletable": true,
    "editable": true
   },
   "outputs": [],
   "source": [
    "dp = DatePlot(dpa_model, [(\"msids\", \"1dpamzt\"), (\"model\", \"1dpamzt\")])"
   ]
  },
  {
   "cell_type": "markdown",
   "metadata": {
    "deletable": true,
    "editable": true
   },
   "source": [
    "## Simulating CTI Runs"
   ]
  },
  {
   "cell_type": "markdown",
   "metadata": {
    "deletable": true,
    "editable": true
   },
   "source": [
    "A special case of running a thermal model in ACISpy is simulating a CTI run, which may be performed after a safing action. The `SimulateCTIRun` class simplifies the call to `ThermalModelRunner` by assuming that the state is constant over time. The goal is to predict at what time after the start of the run the temperature will hit a particular limit. \n",
    "\n",
    "To run this model, we only need specify a few parameters (some of which are optional and have default values):"
   ]
  },
  {
   "cell_type": "code",
   "execution_count": null,
   "metadata": {
    "collapsed": true,
    "deletable": true,
    "editable": true
   },
   "outputs": [],
   "source": [
    "pitch = 150. # in degrees\n",
    "T_init = 7.5 # in degrees C\n",
    "ccd_count = 6 # number of CCDs, optional, default 6\n",
    "simpos = -99616.0 # SIM-Z position, optional, default -99616.0\n",
    "off_nominal_roll = 0.0 # in degrees, optional, default 0.0\n",
    "dh_heater = 0 # is the detector housing heater on (1) or off (0)? default 0"
   ]
  },
  {
   "cell_type": "markdown",
   "metadata": {
    "deletable": true,
    "editable": true
   },
   "source": [
    "We pick a model to run, a start time, and feed them and the above parameters into `SimulateCTIRun`:"
   ]
  },
  {
   "cell_type": "code",
   "execution_count": null,
   "metadata": {
    "collapsed": false,
    "deletable": true,
    "editable": true
   },
   "outputs": [],
   "source": [
    "dea_cti_run = SimulateCTIRun(\"dea\", \"2015:002:00:00:00\", T_init, pitch, ccd_count=ccd_count, \n",
    "                             simpos=simpos, off_nominal_roll=off_nominal_roll, dh_heater=dh_heater)"
   ]
  },
  {
   "cell_type": "markdown",
   "metadata": {
    "deletable": true,
    "editable": true
   },
   "source": [
    "The run also reports the time when the limit was reached. We can plot the model using the `plot_model()` method, \n",
    "which shows the limit value as a dashed green line and the time at which the limit was reached as a dashed red line:"
   ]
  },
  {
   "cell_type": "code",
   "execution_count": null,
   "metadata": {
    "collapsed": false,
    "deletable": true,
    "editable": true
   },
   "outputs": [],
   "source": [
    "dp = dea_cti_run.plot_model()"
   ]
  },
  {
   "cell_type": "markdown",
   "metadata": {
    "deletable": true,
    "editable": true
   },
   "source": [
    "You can also do a quick-check of the asymptotic temperature:"
   ]
  },
  {
   "cell_type": "code",
   "execution_count": null,
   "metadata": {
    "collapsed": false,
    "deletable": true,
    "editable": true
   },
   "outputs": [],
   "source": [
    "dea_cti_run.asymptotic_temperature"
   ]
  },
  {
   "cell_type": "markdown",
   "metadata": {
    "deletable": true,
    "editable": true
   },
   "source": [
    "Note that for some combinations of parameters the limit may never be reached. For example, let's knock the CCD count down to 4:"
   ]
  },
  {
   "cell_type": "code",
   "execution_count": null,
   "metadata": {
    "collapsed": false,
    "deletable": true,
    "editable": true
   },
   "outputs": [],
   "source": [
    "dea_cti_run = SimulateCTIRun(\"dea\", \"2015:002:00:00:00\", T_init, pitch, ccd_count=4, \n",
    "                             simpos=simpos, off_nominal_roll=off_nominal_roll, dh_heater=dh_heater)"
   ]
  },
  {
   "cell_type": "code",
   "execution_count": null,
   "metadata": {
    "collapsed": false,
    "deletable": true,
    "editable": true
   },
   "outputs": [],
   "source": [
    "dp = dea_cti_run.plot_model()"
   ]
  }
 ],
 "metadata": {
  "anaconda-cloud": {},
  "kernelspec": {
   "display_name": "Python [conda env:ska]",
   "language": "python",
   "name": "conda-env-ska-py"
  },
  "language_info": {
   "codemirror_mode": {
    "name": "ipython",
    "version": 2
   },
   "file_extension": ".py",
   "mimetype": "text/x-python",
   "name": "python",
   "nbconvert_exporter": "python",
   "pygments_lexer": "ipython2",
   "version": "2.7.12"
  }
 },
 "nbformat": 4,
 "nbformat_minor": 0
}
